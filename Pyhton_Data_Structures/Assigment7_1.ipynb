{
 "metadata": {
  "language_info": {
   "codemirror_mode": {
    "name": "ipython",
    "version": 3
   },
   "file_extension": ".py",
   "mimetype": "text/x-python",
   "name": "python",
   "nbconvert_exporter": "python",
   "pygments_lexer": "ipython3",
   "version": 3
  },
  "orig_nbformat": 2,
  "kernelspec": {
   "name": "python_defaultSpec_1597096417068",
   "display_name": "Python 3.7.7 64-bit"
  }
 },
 "nbformat": 4,
 "nbformat_minor": 2,
 "cells": [
  {
   "cell_type": "code",
   "execution_count": 1,
   "metadata": {},
   "outputs": [],
   "source": [
    "## 7.1 Write a program that prompts for a file name, then opens that file and reads through the file, and print the contents of the file in upper case. Use the file words.txt to produce the output below.\n",
    "#You can download the sample data at http://www.py4e.com/code3/words.txt"
   ]
  },
  {
   "cell_type": "code",
   "execution_count": 8,
   "metadata": {},
   "outputs": [],
   "source": [
    "fname = input(\"Enter file name, please: \")\n",
    "fheader = open(fname)"
   ]
  },
  {
   "cell_type": "code",
   "execution_count": 9,
   "metadata": {
    "tags": []
   },
   "outputs": [
    {
     "output_type": "stream",
     "name": "stdout",
     "text": "WRITING PROGRAMS OR PROGRAMMING IS A VERY CREATIVE\nAND REWARDING ACTIVITY  YOU CAN WRITE PROGRAMS FOR\nMANY REASONS RANGING FROM MAKING YOUR LIVING TO SOLVING\nA DIFFICULT DATA ANALYSIS PROBLEM TO HAVING FUN TO HELPING\nSOMEONE ELSE SOLVE A PROBLEM  THIS BOOK ASSUMES THAT\n{\\EM EVERYONE} NEEDS TO KNOW HOW TO PROGRAM AND THAT ONCE\nYOU KNOW HOW TO PROGRAM, YOU WILL FIGURE OUT WHAT YOU WANT\nTO DO WITH YOUR NEWFOUND SKILLS\n\nWE ARE SURROUNDED IN OUR DAILY LIVES WITH COMPUTERS RANGING\nFROM LAPTOPS TO CELL PHONES  WE CAN THINK OF THESE COMPUTERS\nAS OUR PERSONAL ASSISTANTS WHO CAN TAKE CARE OF MANY THINGS\nON OUR BEHALF  THE HARDWARE IN OUR CURRENT-DAY COMPUTERS\nIS ESSENTIALLY BUILT TO CONTINUOUSLY ASK US THE QUESTION\nWHAT WOULD YOU LIKE ME TO DO NEXT\n\nOUR COMPUTERS ARE FAST AND HAVE VASTS AMOUNTS OF MEMORY AND\nCOULD BE VERY HELPFUL TO US IF WE ONLY KNEW THE LANGUAGE TO\nSPEAK TO EXPLAIN TO THE COMPUTER WHAT WE WOULD LIKE IT TO\nDO NEXT IF WE KNEW THIS LANGUAGE WE COULD TELL THE\nCOMPUTER TO DO TASKS ON OUR BEHALF THAT WERE REPTITIVE\nINTERESTINGLY, THE KINDS OF THINGS COMPUTERS CAN DO BEST\nARE OFTEN THE KINDS OF THINGS THAT WE HUMANS FIND BORING\nAND MIND-NUMBING\n"
    }
   ],
   "source": [
    "for line in fheader:\n",
    "    line = line.rstrip()\n",
    "    print(line.upper())"
   ]
  },
  {
   "cell_type": "code",
   "execution_count": null,
   "metadata": {},
   "outputs": [],
   "source": []
  }
 ]
}