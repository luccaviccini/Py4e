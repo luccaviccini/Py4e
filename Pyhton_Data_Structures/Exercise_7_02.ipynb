{
 "metadata": {
  "language_info": {
   "codemirror_mode": {
    "name": "ipython",
    "version": 3
   },
   "file_extension": ".py",
   "mimetype": "text/x-python",
   "name": "python",
   "nbconvert_exporter": "python",
   "pygments_lexer": "ipython3",
   "version": 3
  },
  "orig_nbformat": 2,
  "kernelspec": {
   "name": "python_defaultSpec_1597097749117",
   "display_name": "Python 3.7.7 64-bit"
  }
 },
 "nbformat": 4,
 "nbformat_minor": 2,
 "cells": [
  {
   "cell_type": "code",
   "execution_count": 5,
   "metadata": {
    "tags": []
   },
   "outputs": [
    {
     "output_type": "stream",
     "name": "stdout",
     "text": "Average spam confidence:  0.7507185185185187\n"
    }
   ],
   "source": [
    "fname = input(\"Hello, please enter file name: \")\n",
    "fh = open(fname)\n",
    "counter = 0\n",
    "add = 0\n",
    "for line in fh:\n",
    "    if not line.startswith(\"X-DSPAM-Confidence: \"): continue\n",
    "    zero = line.find(\"0\")\n",
    "    number = line[zero:]\n",
    "    add = add + float(number.rstrip())\n",
    "    counter += 1\n",
    "answer = add/counter\n",
    "\n",
    "print(\"Average spam confidence: \", answer)\n"
   ]
  },
  {
   "cell_type": "code",
   "execution_count": null,
   "metadata": {},
   "outputs": [],
   "source": []
  }
 ]
}