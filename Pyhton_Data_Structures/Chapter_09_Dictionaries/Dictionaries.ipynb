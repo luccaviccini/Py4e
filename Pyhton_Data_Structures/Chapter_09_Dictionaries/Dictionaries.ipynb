{
 "cells": [
  {
   "cell_type": "markdown",
   "metadata": {},
   "source": [
    "#### Problem to solve: going to see a bunch of words and want to know the most common one, histogram problem:"
   ]
  },
  {
   "cell_type": "code",
   "execution_count": null,
   "metadata": {},
   "outputs": [],
   "source": [
    "ls = ['lucca', 'mariana','lais','lucca','mariana','lais','lais','silayne','lucca','lucca','mariana']\n",
    "print(len(ls))\n",
    "c  = dict()\n",
    "'''\n",
    "for name in ls:\n",
    "    if name not in c:\n",
    "        c[name] = 1\n",
    "    else:\n",
    "        c[name] += 1\n",
    "        \n",
    "print(c)\n",
    "'''"
   ]
  },
  {
   "cell_type": "code",
   "execution_count": 6,
   "metadata": {},
   "outputs": [
    {
     "name": "stdout",
     "output_type": "stream",
     "text": [
      "{'lucca': 4, 'mariana': 3, 'lais': 3, 'silayne': 1}\n"
     ]
    }
   ],
   "source": [
    "c.clear()\n",
    "for name in ls:\n",
    "    c[name] = c.get(name,0)+1\n",
    "print(c)    "
   ]
  },
  {
   "cell_type": "code",
   "execution_count": null,
   "metadata": {},
   "outputs": [],
   "source": []
  },
  {
   "cell_type": "code",
   "execution_count": null,
   "metadata": {},
   "outputs": [],
   "source": []
  }
 ],
 "metadata": {
  "kernelspec": {
   "display_name": "Python 3",
   "language": "python",
   "name": "python3"
  },
  "language_info": {
   "codemirror_mode": {
    "name": "ipython",
    "version": 3
   },
   "file_extension": ".py",
   "mimetype": "text/x-python",
   "name": "python",
   "nbconvert_exporter": "python",
   "pygments_lexer": "ipython3",
   "version": "3.7.6"
  }
 },
 "nbformat": 4,
 "nbformat_minor": 2
}
